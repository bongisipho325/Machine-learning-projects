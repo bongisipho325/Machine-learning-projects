{
 "cells": [
  {
   "cell_type": "code",
   "execution_count": 6,
   "metadata": {
    "collapsed": true
   },
   "outputs": [],
   "source": [
    "import numpy as np\n",
    "import pandas as pd\n",
    "import random"
   ]
  },
  {
   "cell_type": "code",
   "execution_count": 7,
   "metadata": {},
   "outputs": [],
   "source": [
    "dataset= pd.read_csv('Market_Basket_Optimisation.csv')\n",
    "\n",
    "shape= (dataset.shape)"
   ]
  },
  {
   "cell_type": "code",
   "execution_count": null,
   "metadata": {},
   "outputs": [],
   "source": [
    "for i in range(0,shape[0]):\n",
    "    for k in range(0,shape[1]):\n",
    "        x= random.randrange(1,24)\n",
    "        \n",
    "        if x ==1:\n",
    "            dataset[i,k]= \"tinned fish\"\n",
    "            \n",
    "        elif x ==2:\n",
    "            dataset[i,k]= \"Lolypops\"\n",
    "            \n",
    "        elif x ==3:\n",
    "            dataset[i,k]= \"strikers\"\n",
    "            \n",
    "        elif x ==4:\n",
    "            dataset[i,k]= \"Tennis\"\n",
    "        \n",
    "        elif x ==5:\n",
    "            dataset[i,k]= \"Tomatoes\"\n",
    "            \n",
    "        elif x ==6:\n",
    "            dataset[i,k]= \"Soup\"\n",
    "        \n",
    "        elif x ==7:\n",
    "            dataset[i,k]= \"Eggs\"\n",
    "         \n",
    "        elif x ==8:\n",
    "            dataset[i,k]= \"Coca-cola\"\n",
    "        \n",
    "        elif x ==9:\n",
    "            dataset[i,k]= \"Atchaar\"\n",
    "         \n",
    "        elif x ==10:\n",
    "            dataset[i,k]= \"Drinh O pops\"\n",
    "        \n",
    "        elif x ==12:\n",
    "            dataset[i,k]= \"Hallz\"\n",
    "        \n",
    "        elif x ==11:\n",
    "            dataset[i,k]= \"Cigarettes\"\n",
    "        \n",
    "        elif x ==13:\n",
    "            dataset[i,k]= \"Milk\"\n",
    "        \n",
    "        elif x ==14:\n",
    "            dataset[i,k]= \"Bread\"\n",
    "        \n",
    "        elif x ==15:\n",
    "            dataset[i,k]= \"Kingsley Soda\"\n",
    "        \n",
    "        elif x ==16:\n",
    "            dataset[i,k]= \"Simba Chips\"\n",
    "        \n",
    "        elif x ==17:\n",
    "            dataset[i,k]= \"Airtime\"\n",
    "        \n",
    "        elif x ==18:\n",
    "            dataset[i,k]= \"Rice\"\n",
    "        \n",
    "        elif x ==19:\n",
    "            dataset[i,k]= \"Sugar\"\n",
    "        \n",
    "        elif x ==20:\n",
    "            dataset[i,k]= \"Salt\"\n",
    "        \n",
    "        elif x ==21:\n",
    "            dataset[i,k]= \"Cooking-oil\"\n",
    "        \n",
    "        elif x ==22:\n",
    "            dataset[i,k]= \"Mosquito-coil\"\n",
    "        \n",
    "        elif x ==23:\n",
    "            dataset[i,k]= \"Inkomazi\"\n",
    "        \n",
    "        elif x ==24:\n",
    "            dataset[i,k]= \"Lolypops\"\n",
    "        "
   ]
  },
  {
   "cell_type": "code",
   "execution_count": null,
   "metadata": {
    "collapsed": true
   },
   "outputs": [],
   "source": [
    "print()"
   ]
  }
 ],
 "metadata": {
  "kernelspec": {
   "display_name": "Python 3",
   "language": "python",
   "name": "python3"
  },
  "language_info": {
   "codemirror_mode": {
    "name": "ipython",
    "version": 3
   },
   "file_extension": ".py",
   "mimetype": "text/x-python",
   "name": "python",
   "nbconvert_exporter": "python",
   "pygments_lexer": "ipython3",
   "version": "3.6.3"
  }
 },
 "nbformat": 4,
 "nbformat_minor": 2
}
